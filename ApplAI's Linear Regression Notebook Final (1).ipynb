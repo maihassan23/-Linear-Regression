{
 "cells": [
  {
   "cell_type": "markdown",
   "metadata": {
    "id": "S7i3buRmEQtX"
   },
   "source": [
    "# Linear Regression:\n",
    "\n",
    "\n",
    "---\n",
    "\n",
    "\n",
    "\n",
    "---\n",
    "\n",
    "\n",
    "\n",
    "## Introduction\n",
    "\n",
    "In this exercise, you will implement Linear Regression algorithm to predict the price of houses using the size and apply it to Dataset with One feature represents the size in $m^2$. \n",
    "we strongly recommend Asking your colleagues and your Coach Using Questions And Discussions Channel on Microsoft Teams."
   ]
  },
  {
   "cell_type": "markdown",
   "metadata": {
    "id": "psSP86Z_EQtZ"
   },
   "source": [
    "#### Run the next cell to import the needed libraries and to load the dataset and Plot Dataset\n"
   ]
  },
  {
   "cell_type": "markdown",
   "metadata": {
    "id": "DS8cndAFTZ4c"
   },
   "source": [
    "The Following Code illustrates the Shape of Data by printing the first 10 Examples, The First Column represents the input feature which is the size of the house, and the second column represents the output which is the Price of the house"
   ]
  },
  {
   "cell_type": "markdown",
   "metadata": {
    "id": "tY_ioEoub0Bz"
   },
   "source": [
    "##Linear Regression using sklearn"
   ]
  },
  {
   "cell_type": "code",
   "execution_count": 25,
   "metadata": {
    "id": "1lY8U-mEbwdR"
   },
   "outputs": [],
   "source": [
    "import numpy as np\n",
    "import pandas as pd\n",
    "import matplotlib.pyplot as plt"
   ]
  },
  {
   "cell_type": "code",
   "execution_count": 26,
   "metadata": {},
   "outputs": [],
   "source": [
    "dataset = pd.read_csv(r'House_Price.csv')"
   ]
  },
  {
   "cell_type": "code",
   "execution_count": 27,
   "metadata": {
    "id": "q16sJYKJb84h"
   },
   "outputs": [],
   "source": [
    "# Splitting data features & Outputs\n",
    "X = dataset.iloc[:, :-1].values\n",
    "y = dataset.iloc[:, 1].values"
   ]
  },
  {
   "cell_type": "code",
   "execution_count": 28,
   "metadata": {
    "id": "5HDzzjY7b-v4"
   },
   "outputs": [],
   "source": [
    "# Splitting the dataset into the Training set and Test set\n",
    "from sklearn.model_selection import train_test_split\n",
    "X_train, X_test, y_train, y_test = train_test_split(X, y, test_size = 1/3, random_state = 0)"
   ]
  },
  {
   "cell_type": "code",
   "execution_count": 29,
   "metadata": {
    "colab": {
     "base_uri": "https://localhost:8080/"
    },
    "id": "ix7ui6RDcAyB",
    "outputId": "b02f3e0d-e0f7-45f8-ac7b-2794b8e50652"
   },
   "outputs": [
    {
     "data": {
      "text/plain": [
       "LinearRegression()"
      ]
     },
     "execution_count": 29,
     "metadata": {},
     "output_type": "execute_result"
    }
   ],
   "source": [
    "# Fitting Simple Linear Regression to the Training set\n",
    "from sklearn.linear_model import LinearRegression\n",
    "regressor = LinearRegression()\n",
    "regressor.fit(X_train, y_train)"
   ]
  },
  {
   "cell_type": "code",
   "execution_count": 30,
   "metadata": {
    "id": "ug7YESqVcC6g"
   },
   "outputs": [],
   "source": [
    "# Predicting the Test set results\n",
    "y_pred = regressor.predict(X_test)"
   ]
  },
  {
   "cell_type": "code",
   "execution_count": 31,
   "metadata": {
    "colab": {
     "base_uri": "https://localhost:8080/",
     "height": 266
    },
    "id": "10CxoPX1cEiY",
    "outputId": "3bb7bfe0-81f6-4006-9fd3-dca500766fce"
   },
   "outputs": [
    {
     "data": {
      "image/png": "[encoded data removed]",
      "text/plain": [
       "<Figure size 432x288 with 1 Axes>"
      ]
     },
     "metadata": {
      "needs_background": "light"
     },
     "output_type": "display_data"
    }
   ],
   "source": [
    "# Visualising the Training set results\n",
    "plt.scatter(X_train, y_train, color = 'red')\n",
    "plt.plot(X_train, regressor.predict(X_train), color = 'blue')\n",
    "plt.show()"
   ]
  },
  {
   "cell_type": "code",
   "execution_count": 32,
   "metadata": {
    "colab": {
     "base_uri": "https://localhost:8080/",
     "height": 265
    },
    "id": "smsDRRv-cGNp",
    "outputId": "6144f8b7-bb89-40ed-b12e-a8d5a20a964d"
   },
   "outputs": [
    {
     "data": {
      "image/png": "[encoded data removed]",
      "text/plain": [
       "<Figure size 432x288 with 1 Axes>"
      ]
     },
     "metadata": {
      "needs_background": "light"
     },
     "output_type": "display_data"
    }
   ],
   "source": [
    "# Visualising the Test set results\n",
    "plt.scatter(X_test, y_test, color = 'red')\n",
    "plt.plot(X_train, regressor.predict(X_train), color = 'blue')\n",
    "plt.show()"
   ]
  },
  {
   "cell_type": "code",
   "execution_count": 33,
   "metadata": {
    "colab": {
     "base_uri": "https://localhost:8080/"
    },
    "id": "QF_MLuyQcKdg",
    "outputId": "d9a567f2-111e-4385-fcf5-0dfadfe910b8"
   },
   "outputs": [
    {
     "name": "stdout",
     "output_type": "stream",
     "text": [
      "MSE: 7.697764898065317\n",
      "MAE: 2.2975982392150414\n",
      "RMSE: 2.7744846184589522\n",
      "r2_score: 0.590131313269922\n"
     ]
    }
   ],
   "source": [
    "from sklearn import metrics\n",
    "print(\"MSE:\",metrics.mean_squared_error(y_pred,y_test))\n",
    "print(\"MAE:\",metrics.mean_absolute_error(y_pred,y_test))\n",
    "print(\"RMSE:\",np.sqrt(metrics.mean_squared_error(y_pred,y_test)))\n",
    "print(\"r2_score:\",metrics.r2_score(y_pred,y_test))"
   ]
  },
  {
   "cell_type": "markdown",
   "metadata": {
    "id": "s51apPe0cPLL"
   },
   "source": [
    "## More Regression Models"
   ]
  },
  {
   "cell_type": "markdown",
   "metadata": {
    "id": "N1Hzsdhkcn2Z"
   },
   "source": [
    "## SVR"
   ]
  },
  {
   "cell_type": "code",
   "execution_count": 15,
   "metadata": {
    "id": "C7fjp3C2cMu4"
   },
   "outputs": [],
   "source": [
    "from sklearn import svm\n",
    "from sklearn.preprocessing import StandardScaler\n",
    "from sklearn.model_selection import train_test_split, GridSearchCV\n",
    "from sklearn.metrics import accuracy_score, classification_report"
   ]
  },
  {
   "cell_type": "code",
   "execution_count": 16,
   "metadata": {
    "id": "yjT6EznOcTih"
   },
   "outputs": [],
   "source": [
    "reg=svm.SVR(kernel='sigmoid')\n",
    "reg.fit(X_train,y_train)\n",
    "\n",
    "y_pred=reg.predict(X_train)"
   ]
  },
  {
   "cell_type": "code",
   "execution_count": 17,
   "metadata": {
    "colab": {
     "base_uri": "https://localhost:8080/"
    },
    "id": "TCzAxigJcVBo",
    "outputId": "623e7b5c-ee83-4ec5-f9ad-6e13a6255922"
   },
   "outputs": [
    {
     "name": "stdout",
     "output_type": "stream",
     "text": [
      "linear\n",
      "r2_score: 0.7478015101183143\n",
      "poly\n",
      "r2_score: -2.7570533851828847\n",
      "rbf\n",
      "r2_score: 0.5424983189681454\n"
     ]
    }
   ],
   "source": [
    "for k in ('linear','poly','rbf'):\n",
    "    reg=svm.SVR(kernel=k)\n",
    "    reg.fit(X_train,y_train)\n",
    "    y_pred=reg.predict(X_train)\n",
    "    print(k)\n",
    "    print(\"r2_score:\",metrics.r2_score(y_train,y_pred))"
   ]
  },
  {
   "cell_type": "code",
   "execution_count": 18,
   "metadata": {
    "id": "EysapsLMcWRh"
   },
   "outputs": [],
   "source": [
    "from sklearn.svm import SVR \n",
    "reg = SVR(kernel='linear') \n",
    "reg.fit(X_train,y_train)\n",
    "y_pred=reg.predict(X_train)"
   ]
  },
  {
   "cell_type": "code",
   "execution_count": 19,
   "metadata": {
    "colab": {
     "base_uri": "https://localhost:8080/"
    },
    "id": "rm5xjfBNcbJ3",
    "outputId": "f2d3c504-3b6f-4e0d-e2cf-db8ca016f8a4"
   },
   "outputs": [
    {
     "name": "stdout",
     "output_type": "stream",
     "text": [
      "r2_score: 0.7478015101183143\n"
     ]
    }
   ],
   "source": [
    "print(\"r2_score:\",metrics.r2_score(y_train,y_pred))"
   ]
  },
  {
   "cell_type": "markdown",
   "metadata": {
    "id": "FMo6GToacgEt"
   },
   "source": [
    "## Decision Tree"
   ]
  },
  {
   "cell_type": "code",
   "execution_count": 20,
   "metadata": {
    "colab": {
     "base_uri": "https://localhost:8080/"
    },
    "id": "mmzzypX0cc0g",
    "outputId": "a6f30810-54f4-4fa1-94e7-54e6f5c40779"
   },
   "outputs": [
    {
     "name": "stdout",
     "output_type": "stream",
     "text": [
      "MSE: 15.827906426356188\n",
      "MAE: 3.0885481249999955\n",
      "RMSE: 3.9784301459691593\n",
      "r2_score: 0.39666203608350037\n"
     ]
    }
   ],
   "source": [
    "from sklearn.tree import DecisionTreeRegressor\n",
    "Regression = DecisionTreeRegressor( random_state = 0)\n",
    "Regression.fit(X_train, y_train)\n",
    "\n",
    "y_pred = Regression.predict(X_test)\n",
    "\n",
    "#Validation\n",
    "from sklearn import metrics\n",
    "print(\"MSE:\",metrics.mean_squared_error(y_pred,y_test))\n",
    "print(\"MAE:\",metrics.mean_absolute_error(y_pred,y_test))\n",
    "print(\"RMSE:\",np.sqrt(metrics.mean_squared_error(y_pred,y_test)))\n",
    "print(\"r2_score:\",metrics.r2_score(y_pred,y_test))\n"
   ]
  },
  {
   "cell_type": "code",
   "execution_count": null,
   "metadata": {},
   "outputs": [],
   "source": []
  },
  {
   "cell_type": "code",
   "execution_count": null,
   "metadata": {},
   "outputs": [],
   "source": []
  },
  {
   "cell_type": "code",
   "execution_count": null,
   "metadata": {},
   "outputs": [],
   "source": []
  }
 ],
 "metadata": {
  "colab": {
   "collapsed_sections": [],
   "name": "ApplAI's Linear Regression Notebook.ipynb",
   "provenance": []
  },
  "kernelspec": {
   "display_name": "Python 3 (ipykernel)",
   "language": "python",
   "name": "python3"
  },
  "language_info": {
   "codemirror_mode": {
    "name": "ipython",
    "version": 3
   },
   "file_extension": ".py",
   "mimetype": "text/x-python",
   "name": "python",
   "nbconvert_exporter": "python",
   "pygments_lexer": "ipython3",
   "version": "3.9.7"
  }
 },
 "nbformat": 4,
 "nbformat_minor": 1
}
